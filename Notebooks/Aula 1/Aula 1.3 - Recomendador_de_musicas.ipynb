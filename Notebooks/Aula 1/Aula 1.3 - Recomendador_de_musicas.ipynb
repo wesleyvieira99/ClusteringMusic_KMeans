{
  "nbformat": 4,
  "nbformat_minor": 0,
  "metadata": {
    "colab": {
      "name": "Recomendador de musicas.ipynb",
      "provenance": []
    },
    "kernelspec": {
      "name": "python3",
      "display_name": "Python 3"
    },
    "language_info": {
      "name": "python"
    }
  },
  "cells": [
    {
      "cell_type": "markdown",
      "source": [
        "# Aula 1 - Introdução"
      ],
      "metadata": {
        "id": "V53DcJTTOKoJ"
      }
    },
    {
      "cell_type": "markdown",
      "source": [
        "## Aula 1.3 Dicionário dos dados"
      ],
      "metadata": {
        "id": "oSFuWCaorKNl"
      }
    },
    {
      "cell_type": "markdown",
      "source": [
        "[Spotify API](https://developer.spotify.com/documentation/web-api/reference/#/operations/get-several-audio-features)"
      ],
      "metadata": {
        "id": "_k8yJHAYt6re"
      }
    },
    {
      "cell_type": "markdown",
      "source": [
        "* `Acousticness/Acústica:` Variável numérica, medida de confiança de 0,0 a 1,0 se a faixa é acústica. 1.0 representa alta confiança de que a faixa é acústica.\n",
        "\n",
        "* `Danceability/Dançabilidade:` Variável numérica, a dançabilidade descreve o quão adequada uma faixa é para dançar com base em uma combinação de elementos musicais, incluindo tempo, estabilidade do ritmo, força da batida e regularidade geral. Um valor de 0,0 é o menos dançável e 1,0 é o mais dançável.\n",
        "\n",
        "* `Duration_ms:`Variável numérica, a duração da trilha em milissegundos.\n",
        "\n",
        "* `Duration_min:` Variável numérica, a duração da faixa em minutos.\n",
        "\n",
        "* `Energy/Energia:` Variável numérica, Energia é uma medida de 0,0 a 1,0 e representa uma medida perceptiva de intensidade e atividade. Normalmente, as faixas energéticas parecem rápidas, altas e barulhentas. Por exemplo, o death metal tem alta energia, enquanto um prelúdio de Bach tem uma pontuação baixa na escala. As características perceptivas que contribuem para este atributo incluem faixa dinâmica, intensidade percebida, timbre, taxa de início e entropia geral.\n",
        "\n",
        "* `Explicit/Explícito:` Variável categórica, se a faixa tem ou não letras explícitas (verdadeiro = sim (1); falso = não(0), não OU desconhecido).\n",
        "\n",
        "* `Id:` O ID do Spotify para a faixa.\n",
        "\n",
        "* `Instrumentalness/Instrumentalidade:` Variável numérica, prevê se uma faixa não contém vocais. Os sons “Ooh” e “aah” são tratados como instrumentais neste contexto. Faixas de rap ou de palavras faladas são claramente “vocais”. Quanto mais próximo o valor de instrumentalidade estiver de 1,0, maior a probabilidade de a faixa não conter conteúdo vocal. Valores acima de 0,5 destinam-se a representar faixas instrumentais, mas a confiança é maior à medida que o valor se aproxima de 1,0.\n",
        "\n",
        "* `Key/Chave:`Variável numérica, a chave geral estimada da faixa. Os inteiros são mapeados para pitchs usando a notação padrão de Pitch Class. Por exemplo. 0 = C, 1 = C#/Db, 2 = D, e assim por diante. Se nenhuma chave foi detectada, o valor é -1.\n",
        "\n",
        "* `Liveness/ Ao vivo:` Variável numérica, detecta a presença de um público na gravação. Valores mais altos de vivacidade representam uma probabilidade maior de que a faixa tenha sido executada ao vivo. Um valor acima de 0,8 fornece uma forte probabilidade de que a faixa esteja ativa.\n",
        "\n",
        "* `Loudness/ Volume em dB:` Variável numérica, volume geral de uma faixa em decibéis (dB). Os valores de volume são calculados em média em toda a faixa e são úteis para comparar o volume relativo das faixas. A sonoridade é a qualidade de um som que é o principal correlato psicológico da força física (amplitude). Os valores típicos variam entre -60 e 0 db.\n",
        "\n",
        "* `Mode/ Modo:` Variável numérica, o modo indica a modalidade (maior ou menor) de uma faixa, o tipo de escala da qual seu conteúdo melódico é derivado. Maior é representado por 1 e menor é 0.\n",
        "\n",
        "* `Popularity/Popularidade:` Variável numérica, a popularidade de uma faixa é um valor entre 0 e 100, sendo 100 o mais popular. A popularidade é calculada por algoritmo e é baseada, em grande parte, no número total de execuções que a faixa teve e quão recentes são essas execuções.\n",
        "\n",
        "* `Speechiness/Fala:` Variável numérica, a fala detecta a presença de palavras faladas em uma faixa. Quanto mais exclusivamente falada a gravação (por exemplo, talk show, audiolivro, poesia), mais próximo de 1,0 o valor do atributo. Valores acima de 0,66 descrevem faixas que provavelmente são feitas inteiramente de palavras faladas. Valores entre 0,33 e 0,66 descrevem faixas que podem conter música e fala, seja em seções ou em camadas, incluindo casos como música rap. Os valores abaixo de 0,33 provavelmente representam músicas e outras faixas que não são de fala.\n",
        "\n",
        "* `Tempo:` Variável numérica, Tempo estimado geral de uma faixa em batidas por minuto (BPM). Na terminologia musical, tempo é a velocidade ou ritmo de uma determinada peça e deriva diretamente da duração média da batida.\n",
        "\n",
        "* `Valence/Valência:` Variável numérica, Medida de 0,0 a 1,0 descrevendo a positividade musical transmitida por uma faixa. Faixas com alta valência soam mais positivas (por exemplo, feliz, alegre, eufórica), enquanto faixas com baixa valência soam mais negativas (por exemplo, triste, deprimida, irritada).\n",
        "\n",
        "* `Year/Ano:` Ano em que a música foi lançada."
      ],
      "metadata": {
        "id": "LUy5Ex8VrPe-"
      }
    },
    {
      "cell_type": "markdown",
      "source": [
        "## Aula 1.4 Analise dos dados"
      ],
      "metadata": {
        "id": "gAHYpvk-qyjz"
      }
    },
    {
      "cell_type": "code",
      "source": [
        ""
      ],
      "metadata": {
        "id": "HdWWbAopV3tT"
      },
      "execution_count": null,
      "outputs": []
    },
    {
      "cell_type": "markdown",
      "source": [
        "## Aula 1.5 Análise gráfica"
      ],
      "metadata": {
        "id": "Cf0u9LxLwkRq"
      }
    },
    {
      "cell_type": "code",
      "source": [
        ""
      ],
      "metadata": {
        "id": "tzAoFn6SV4Zj"
      },
      "execution_count": null,
      "outputs": []
    },
    {
      "cell_type": "markdown",
      "source": [
        "# Aula 2 - Clusterização por gênero"
      ],
      "metadata": {
        "id": "R8Cj61yTOH44"
      }
    },
    {
      "cell_type": "markdown",
      "source": [
        "## Aula 2.1 PCA e SdandartScaler"
      ],
      "metadata": {
        "id": "gBnt__8-x0Kc"
      }
    },
    {
      "cell_type": "code",
      "source": [
        ""
      ],
      "metadata": {
        "id": "gWPqMzeHV2Pz"
      },
      "execution_count": null,
      "outputs": []
    },
    {
      "cell_type": "markdown",
      "source": [
        "Como temos uma grande variedade de gêneros, 2973 ao todo, e todos estão em formato de string que não é aceito por modelos de machine learning, precisamos aplicar algum tipo de encoding, que é basicamente fazer com que essas palavras virem valores numéricos e façam sentido para a nossa máquina. O modo que vamos fazer é utilizando o **get_dummies**, que é bem semelhante ao OneHotEncoder, mas muito mais fácil de aplicar já que podemos utilizar direto da biblioteca do Pandas. \n"
      ],
      "metadata": {
        "id": "pxVBMTXqyLYt"
      }
    },
    {
      "cell_type": "code",
      "source": [
        ""
      ],
      "metadata": {
        "id": "VjjBWYpuV1fz"
      },
      "execution_count": null,
      "outputs": []
    },
    {
      "cell_type": "markdown",
      "source": [
        "Agora vamos utilizar vários conceitos em um processo de pipeline, então a primeira coisa que vamos fazer é importar o método **Pipeline** do [sklearn.pipeline](https://scikit-learn.org/stable/modules/generated/sklearn.pipeline.Pipeline.html) e esse método faz literalmente uma pipeline de machine learning, mas de uma forma automática, onde aplica sequencialmente uma lista de transformações até um resultado final. Então o que precisamos passar é o que a nossa pipeline vai fazer, como o primeiro passo e o que queremos de resultado final dela. \n",
        "\n",
        "Neste ponto, onde fizemos os nossos dummies anteriormente com os gêneros, precisamos reduzir a dimensionalidade da tabela que está com milhares de colunas, porém se utilizarmos um processo de redução diretamente, sem fazer a padronização dos dados na parte de pré processamento, os resultados ficarão totalmente desbalanceados, trazendo maior peso para as variáveis que tem uma amplitude maior, como por exemplo o **loudness** em relação às outras variáveis que compõe a música. \n",
        "\n",
        "Para resolver esse problema, o primeiro passo da pipeline vai ser usar o [**StandardScaler**](https://scikit-learn.org/stable/modules/preprocessing.html) para trazer essa normalização e redução de escala para que no próximo passo seja feita a redução de dimensionalidade com um método de decomposição, no nosso caso vamos escolher o PCA.\n",
        "\n",
        "PCA significa Análise de componentes principais e ele trás consigo uma série de análises matemáticas que são feitas para que possamos transformar aquelas milhares de colunas que temos em uma quantidade menor, com um valor n que escolhermos, porém, quanto mais colunas a gente tem no dataset original e menos colunas queremos no dataset final, o aprendizado depois pode ser prejudicado.\n",
        "\n",
        "Na parte **n_components** podemos colocar a quantidade de % de explicação que queremos que o algoritmo tenha no final, como por exemplo 0.3, que seria 30%, ou um valor como por exemplo um valor X de colunas.\n"
      ],
      "metadata": {
        "id": "sk832DN7z1qk"
      }
    },
    {
      "cell_type": "code",
      "source": [
        ""
      ],
      "metadata": {
        "id": "z6Wmr4XGV-07"
      },
      "execution_count": null,
      "outputs": []
    },
    {
      "cell_type": "markdown",
      "source": [
        "Depois de feita a pipeline, vamos salvar em um arquivo chamado projection, com as colunas x e y, que são as posições dos pontos na cluster."
      ],
      "metadata": {
        "id": "5TVDBtHx-O-B"
      }
    },
    {
      "cell_type": "code",
      "source": [
        ""
      ],
      "metadata": {
        "id": "lBhEdOWWV_FL"
      },
      "execution_count": null,
      "outputs": []
    },
    {
      "cell_type": "markdown",
      "source": [
        "## Aula 2.2 K-Means"
      ],
      "metadata": {
        "id": "hcYvAz91-jAn"
      }
    },
    {
      "cell_type": "code",
      "source": [
        ""
      ],
      "metadata": {
        "id": "kYjIkWmJV_r7"
      },
      "execution_count": null,
      "outputs": []
    },
    {
      "cell_type": "markdown",
      "source": [
        "Depois de fazer a normalização e redução de dimensionalidade,conseguimos gerar os pontos de x e y que temos "
      ],
      "metadata": {
        "id": "zz8IPKohAPVJ"
      }
    },
    {
      "cell_type": "code",
      "source": [
        ""
      ],
      "metadata": {
        "id": "uCbVYCo6V_9b"
      },
      "execution_count": null,
      "outputs": []
    },
    {
      "cell_type": "markdown",
      "source": [
        "## Aula 2.3 Plotando a clustering"
      ],
      "metadata": {
        "id": "B3617DeF_4FR"
      }
    },
    {
      "cell_type": "code",
      "source": [
        ""
      ],
      "metadata": {
        "id": "HG9-sg2GWAX8"
      },
      "execution_count": null,
      "outputs": []
    },
    {
      "cell_type": "markdown",
      "source": [
        "# Aula 3 - Clusterização por música"
      ],
      "metadata": {
        "id": "tl2upg8t__25"
      }
    },
    {
      "cell_type": "markdown",
      "source": [
        "## Aula 3.1 Redução de dimensionalidade com PCA"
      ],
      "metadata": {
        "id": "BFlEqVHd_9qq"
      }
    },
    {
      "cell_type": "code",
      "source": [
        ""
      ],
      "metadata": {
        "id": "xoh4XYpoWB4L"
      },
      "execution_count": null,
      "outputs": []
    },
    {
      "cell_type": "markdown",
      "source": [
        "## Aula 3.2 Aplicação do cluster com K-Means"
      ],
      "metadata": {
        "id": "HY-2xm5y3u93"
      }
    },
    {
      "cell_type": "code",
      "source": [
        ""
      ],
      "metadata": {
        "id": "SI3Yg8o1WCM7"
      },
      "execution_count": null,
      "outputs": []
    },
    {
      "cell_type": "markdown",
      "source": [
        "## Aula 3.3 Analisando o cluster"
      ],
      "metadata": {
        "id": "fjl9truJ4CCj"
      }
    },
    {
      "cell_type": "code",
      "source": [
        ""
      ],
      "metadata": {
        "id": "NXXQHGtIWCs7"
      },
      "execution_count": null,
      "outputs": []
    },
    {
      "cell_type": "markdown",
      "source": [
        "# Aula 4 - Sistemas de Recomendação"
      ],
      "metadata": {
        "id": "C_jPt0TF3WRT"
      }
    },
    {
      "cell_type": "markdown",
      "source": [
        "## Aula 4.1 Recomendação da música"
      ],
      "metadata": {
        "id": "qai3pGtWUFl-"
      }
    },
    {
      "cell_type": "code",
      "source": [
        ""
      ],
      "metadata": {
        "id": "QqAO2gE5WDmb"
      },
      "execution_count": null,
      "outputs": []
    },
    {
      "cell_type": "markdown",
      "source": [
        "## Aula 4.2 Biblioteca Spotipy"
      ],
      "metadata": {
        "id": "euvxau8aVlwP"
      }
    },
    {
      "cell_type": "code",
      "source": [
        ""
      ],
      "metadata": {
        "id": "7iwte0IQWEGD"
      },
      "execution_count": null,
      "outputs": []
    },
    {
      "cell_type": "markdown",
      "source": [
        "**ATENÇÃO!**\n",
        "\n",
        "Antes de rodar essa parte do código, você precisa fazer uma conta na API do Spotify e gerar suas próprias **client_id** e **client_secret**"
      ],
      "metadata": {
        "id": "nzJAzu_7V-Lm"
      }
    },
    {
      "cell_type": "code",
      "source": [
        ""
      ],
      "metadata": {
        "id": "nFDspvpNWEgL"
      },
      "execution_count": null,
      "outputs": []
    },
    {
      "cell_type": "markdown",
      "source": [
        "## Aula 4.3 Imagem do álbum"
      ],
      "metadata": {
        "id": "PhGpa5Rw1YwL"
      }
    },
    {
      "cell_type": "code",
      "source": [
        ""
      ],
      "metadata": {
        "id": "6Sg5j0FyWE57"
      },
      "execution_count": null,
      "outputs": []
    },
    {
      "cell_type": "markdown",
      "source": [
        "# Aula 5 - Recomendador"
      ],
      "metadata": {
        "id": "1kLStrMVUERu"
      }
    },
    {
      "cell_type": "markdown",
      "source": [
        "## Aula 5.1 Buscando os dados da playlist"
      ],
      "metadata": {
        "id": "7eG7AfLX0lW6"
      }
    },
    {
      "cell_type": "code",
      "source": [
        ""
      ],
      "metadata": {
        "id": "VYjznr4wWFpa"
      },
      "execution_count": null,
      "outputs": []
    },
    {
      "cell_type": "markdown",
      "source": [
        "## Aula 5.2 Gerando as imagens da playlist"
      ],
      "metadata": {
        "id": "KbJbLZdQSSOL"
      }
    },
    {
      "cell_type": "code",
      "source": [
        ""
      ],
      "metadata": {
        "id": "EnpfnEZCWGED"
      },
      "execution_count": null,
      "outputs": []
    },
    {
      "cell_type": "markdown",
      "source": [
        "## Aula 5.3 Fazendo uma função final"
      ],
      "metadata": {
        "id": "XH78D_CpVo3l"
      }
    },
    {
      "cell_type": "code",
      "source": [
        ""
      ],
      "metadata": {
        "id": "HndokkNsWGj8"
      },
      "execution_count": null,
      "outputs": []
    }
  ]
}